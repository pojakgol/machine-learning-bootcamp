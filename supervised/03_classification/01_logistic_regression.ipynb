{
  "nbformat": 4,
  "nbformat_minor": 0,
  "metadata": {
    "colab": {
      "name": "01_logistic_regression.ipynb",
      "provenance": [],
      "collapsed_sections": [],
      "authorship_tag": "ABX9TyP9nvQ6TRE9UEdm1WbAPhMl",
      "include_colab_link": true
    },
    "kernelspec": {
      "name": "python3",
      "display_name": "Python 3"
    },
    "language_info": {
      "name": "python"
    }
  },
  "cells": [
    {
      "cell_type": "markdown",
      "metadata": {
        "id": "view-in-github",
        "colab_type": "text"
      },
      "source": [
        "<a href=\"https://colab.research.google.com/github/pojakgol/machine-learning-bootcamp/blob/main/supervised/03_classification/01_logistic_regression.ipynb\" target=\"_parent\"><img src=\"https://colab.research.google.com/assets/colab-badge.svg\" alt=\"Open In Colab\"/></a>"
      ]
    },
    {
      "cell_type": "code",
      "execution_count": 1,
      "metadata": {
        "colab": {
          "base_uri": "https://localhost:8080/",
          "height": 35
        },
        "id": "PoQTfkapyeIR",
        "outputId": "2f91e23b-60f9-4b28-b047-dd6767773b86"
      },
      "outputs": [
        {
          "output_type": "execute_result",
          "data": {
            "application/vnd.google.colaboratory.intrinsic+json": {
              "type": "string"
            },
            "text/plain": [
              "'1.0.2'"
            ]
          },
          "metadata": {},
          "execution_count": 1
        }
      ],
      "source": [
        "import numpy as np\n",
        "import pandas as pd\n",
        "import matplotlib.pyplot as plt\n",
        "import plotly.figure_factory as ff\n",
        "import seaborn as sns\n",
        "import sklearn\n",
        "\n",
        "sns.set(font_scale=1.3)\n",
        "np.set_printoptions(precision=6, suppress=True, edgeitems=10, linewidth=100000, \n",
        "                    formatter=dict(float=lambda x: f'{x:.2f}'))\n",
        "np.random.seed(42)\n",
        "sklearn.__version__"
      ]
    },
    {
      "cell_type": "code",
      "source": [
        "def sigmoid(x):\n",
        "  return 1 / (1 + np.exp(-x))\n",
        "\n",
        "X = np.arange(-5, 5, 0.1)\n",
        "y = sigmoid(X)\n",
        "\n",
        "plt.figure(figsize=(8, 6))\n",
        "plt.title('Funkcja sigmoid')\n",
        "plt.plot(X, y)\n",
        "plt.show()"
      ],
      "metadata": {
        "colab": {
          "base_uri": "https://localhost:8080/",
          "height": 399
        },
        "id": "3zCRlZAB0DIo",
        "outputId": "f159f599-894d-4812-ef07-3e345beccc82"
      },
      "execution_count": 3,
      "outputs": [
        {
          "output_type": "display_data",
          "data": {
            "image/png": "[encoded data removed]",
            "text/plain": [
              "<Figure size 576x432 with 1 Axes>"
            ]
          },
          "metadata": {
            "needs_background": "light"
          }
        }
      ]
    },
    {
      "cell_type": "markdown",
      "source": [
        "#Załadowanie danych"
      ],
      "metadata": {
        "id": "j33Ud7Hb0cs_"
      }
    },
    {
      "cell_type": "code",
      "source": [
        "from sklearn.datasets import load_breast_cancer\n",
        "\n",
        "raw_data = load_breast_cancer()\n",
        "raw_data.keys()"
      ],
      "metadata": {
        "colab": {
          "base_uri": "https://localhost:8080/"
        },
        "id": "daPrXRy50a1e",
        "outputId": "de5e645d-ac6c-49ee-8e87-1dbedcbcb554"
      },
      "execution_count": 4,
      "outputs": [
        {
          "output_type": "execute_result",
          "data": {
            "text/plain": [
              "dict_keys(['data', 'target', 'frame', 'target_names', 'DESCR', 'feature_names', 'filename', 'data_module'])"
            ]
          },
          "metadata": {},
          "execution_count": 4
        }
      ]
    },
    {
      "cell_type": "code",
      "source": [
        "print(raw_data.DESCR)"
      ],
      "metadata": {
        "colab": {
          "base_uri": "https://localhost:8080/"
        },
        "id": "ETpcRpRF0oz2",
        "outputId": "f2cc4f98-2052-4f7c-97ad-9ff2fe49ce23"
      },
      "execution_count": 5,
      "outputs": [
        {
          "output_type": "stream",
          "name": "stdout",
          "text": [
            ".. _breast_cancer_dataset:\n",
            "\n",
            "Breast cancer wisconsin (diagnostic) dataset\n",
            "--------------------------------------------\n",
            "\n",
            "**Data Set Characteristics:**\n",
            "\n",
            "    :Number of Instances: 569\n",
            "\n",
            "    :Number of Attributes: 30 numeric, predictive attributes and the class\n",
            "\n",
            "    :Attribute Information:\n",
            "        - radius (mean of distances from center to points on the perimeter)\n",
            "        - texture (standard deviation of gray-scale values)\n",
            "        - perimeter\n",
            "        - area\n",
            "        - smoothness (local variation in radius lengths)\n",
            "        - compactness (perimeter^2 / area - 1.0)\n",
            "        - concavity (severity of concave portions of the contour)\n",
            "        - concave points (number of concave portions of the contour)\n",
            "        - symmetry\n",
            "        - fractal dimension (\"coastline approximation\" - 1)\n",
            "\n",
            "        The mean, standard error, and \"worst\" or largest (mean of the three\n",
            "        worst/largest values) of these features were computed for each image,\n",
            "        resulting in 30 features.  For instance, field 0 is Mean Radius, field\n",
            "        10 is Radius SE, field 20 is Worst Radius.\n",
            "\n",
            "        - class:\n",
            "                - WDBC-Malignant\n",
            "                - WDBC-Benign\n",
            "\n",
            "    :Summary Statistics:\n",
            "\n",
            "    ===================================== ====== ======\n",
            "                                           Min    Max\n",
            "    ===================================== ====== ======\n",
            "    radius (mean):                        6.981  28.11\n",
            "    texture (mean):                       9.71   39.28\n",
            "    perimeter (mean):                     43.79  188.5\n",
            "    area (mean):                          143.5  2501.0\n",
            "    smoothness (mean):                    0.053  0.163\n",
            "    compactness (mean):                   0.019  0.345\n",
            "    concavity (mean):                     0.0    0.427\n",
            "    concave points (mean):                0.0    0.201\n",
            "    symmetry (mean):                      0.106  0.304\n",
            "    fractal dimension (mean):             0.05   0.097\n",
            "    radius (standard error):              0.112  2.873\n",
            "    texture (standard error):             0.36   4.885\n",
            "    perimeter (standard error):           0.757  21.98\n",
            "    area (standard error):                6.802  542.2\n",
            "    smoothness (standard error):          0.002  0.031\n",
            "    compactness (standard error):         0.002  0.135\n",
            "    concavity (standard error):           0.0    0.396\n",
            "    concave points (standard error):      0.0    0.053\n",
            "    symmetry (standard error):            0.008  0.079\n",
            "    fractal dimension (standard error):   0.001  0.03\n",
            "    radius (worst):                       7.93   36.04\n",
            "    texture (worst):                      12.02  49.54\n",
            "    perimeter (worst):                    50.41  251.2\n",
            "    area (worst):                         185.2  4254.0\n",
            "    smoothness (worst):                   0.071  0.223\n",
            "    compactness (worst):                  0.027  1.058\n",
            "    concavity (worst):                    0.0    1.252\n",
            "    concave points (worst):               0.0    0.291\n",
            "    symmetry (worst):                     0.156  0.664\n",
            "    fractal dimension (worst):            0.055  0.208\n",
            "    ===================================== ====== ======\n",
            "\n",
            "    :Missing Attribute Values: None\n",
            "\n",
            "    :Class Distribution: 212 - Malignant, 357 - Benign\n",
            "\n",
            "    :Creator:  Dr. William H. Wolberg, W. Nick Street, Olvi L. Mangasarian\n",
            "\n",
            "    :Donor: Nick Street\n",
            "\n",
            "    :Date: November, 1995\n",
            "\n",
            "This is a copy of UCI ML Breast Cancer Wisconsin (Diagnostic) datasets.\n",
            "https://goo.gl/U2Uwz2\n",
            "\n",
            "Features are computed from a digitized image of a fine needle\n",
            "aspirate (FNA) of a breast mass.  They describe\n",
            "characteristics of the cell nuclei present in the image.\n",
            "\n",
            "Separating plane described above was obtained using\n",
            "Multisurface Method-Tree (MSM-T) [K. P. Bennett, \"Decision Tree\n",
            "Construction Via Linear Programming.\" Proceedings of the 4th\n",
            "Midwest Artificial Intelligence and Cognitive Science Society,\n",
            "pp. 97-101, 1992], a classification method which uses linear\n",
            "programming to construct a decision tree.  Relevant features\n",
            "were selected using an exhaustive search in the space of 1-4\n",
            "features and 1-3 separating planes.\n",
            "\n",
            "The actual linear program used to obtain the separating plane\n",
            "in the 3-dimensional space is that described in:\n",
            "[K. P. Bennett and O. L. Mangasarian: \"Robust Linear\n",
            "Programming Discrimination of Two Linearly Inseparable Sets\",\n",
            "Optimization Methods and Software 1, 1992, 23-34].\n",
            "\n",
            "This database is also available through the UW CS ftp server:\n",
            "\n",
            "ftp ftp.cs.wisc.edu\n",
            "cd math-prog/cpo-dataset/machine-learn/WDBC/\n",
            "\n",
            ".. topic:: References\n",
            "\n",
            "   - W.N. Street, W.H. Wolberg and O.L. Mangasarian. Nuclear feature extraction \n",
            "     for breast tumor diagnosis. IS&T/SPIE 1993 International Symposium on \n",
            "     Electronic Imaging: Science and Technology, volume 1905, pages 861-870,\n",
            "     San Jose, CA, 1993.\n",
            "   - O.L. Mangasarian, W.N. Street and W.H. Wolberg. Breast cancer diagnosis and \n",
            "     prognosis via linear programming. Operations Research, 43(4), pages 570-577, \n",
            "     July-August 1995.\n",
            "   - W.H. Wolberg, W.N. Street, and O.L. Mangasarian. Machine learning techniques\n",
            "     to diagnose breast cancer from fine-needle aspirates. Cancer Letters 77 (1994) \n",
            "     163-171.\n"
          ]
        }
      ]
    },
    {
      "cell_type": "code",
      "source": [
        "all_data = raw_data.copy()\n",
        "\n",
        "data = all_data['data']\n",
        "target = all_data['target']\n",
        "\n",
        "print(f'Rozmiar data: {data.shape}')\n",
        "print(f'Rozmiar target: {target.shape}')"
      ],
      "metadata": {
        "colab": {
          "base_uri": "https://localhost:8080/"
        },
        "id": "KT2iu0ch0ue9",
        "outputId": "3ff627d9-c38c-413c-afad-60d741d4fd84"
      },
      "execution_count": 6,
      "outputs": [
        {
          "output_type": "stream",
          "name": "stdout",
          "text": [
            "Rozmiar data: (569, 30)\n",
            "Rozmiar target: (569,)\n"
          ]
        }
      ]
    },
    {
      "cell_type": "code",
      "source": [
        "from sklearn.model_selection import train_test_split\n",
        "\n",
        "X_train, X_test, y_train, y_test = train_test_split(data, target)"
      ],
      "metadata": {
        "id": "RDwe_9yQ1IBE"
      },
      "execution_count": 7,
      "outputs": []
    },
    {
      "cell_type": "code",
      "source": [
        "from sklearn.preprocessing import StandardScaler\n",
        "\n",
        "scaler = StandardScaler()\n",
        "scaler.fit(X_train)\n",
        "\n",
        "X_train = scaler.transform(X_train)\n",
        "X_test = scaler.transform(X_test)\n",
        "X_train"
      ],
      "metadata": {
        "colab": {
          "base_uri": "https://localhost:8080/"
        },
        "id": "8lV6XOzS1WSy",
        "outputId": "34518622-37c4-4cf2-b707-f0e7cc4c92ae"
      },
      "execution_count": 8,
      "outputs": [
        {
          "output_type": "execute_result",
          "data": {
            "text/plain": [
              "array([[-0.35, -1.44, -0.41, -0.39, -1.86, -1.27, -0.83, -0.95, -1.73, -0.94, ..., -0.54, -1.66, -0.59, -0.53, -1.51, -0.89, -0.75, -0.92, -0.93, -0.81],\n",
              "       [-0.20, 0.31, -0.13, -0.28, 1.08, 0.86, 0.73, 0.90, 1.18, 1.47, ..., 0.04, 0.69, 0.19, -0.05, 1.13, 0.92, 1.22, 1.44, 1.15, 1.57],\n",
              "       [-0.33, -0.22, -0.32, -0.36, -1.58, -0.46, -0.60, -0.76, 0.28, -0.50, ..., -0.44, -0.15, -0.32, -0.45, -1.63, -0.11, -0.54, -0.72, 0.53, -0.62],\n",
              "       [1.03, 2.09, 1.05, 0.92, 0.32, 0.56, 1.05, 0.93, -0.33, -0.48, ..., 1.11, 2.17, 1.17, 1.00, 0.38, 0.86, 1.87, 1.31, 0.15, 0.42],\n",
              "       [1.83, 0.70, 1.76, 1.78, -0.33, 0.63, 0.97, 1.27, -0.13, -1.71, ..., 1.47, 0.39, 1.56, 1.39, -0.58, 0.30, 0.60, 1.23, 0.05, -1.41],\n",
              "       [0.33, 0.76, 0.29, 0.16, -0.36, 0.05, -0.43, -0.40, -0.27, 0.08, ..., 0.33, 0.42, 0.21, 0.18, -0.05, 0.55, 0.48, 0.15, 0.48, 0.82],\n",
              "       [-0.10, -0.81, -0.14, -0.19, -0.53, -0.69, -0.98, -1.00, -1.48, -0.57, ..., -0.20, -1.33, -0.27, -0.30, -1.03, -0.94, -1.17, -1.24, -1.66, -0.87],\n",
              "       [0.28, 0.67, 0.22, 0.16, -0.36, -0.62, -0.44, -0.38, -0.69, -0.80, ..., 0.40, 1.03, 0.33, 0.28, 0.33, -0.28, 0.02, 0.63, -0.33, -0.26],\n",
              "       [-0.50, -1.01, -0.56, -0.52, -0.63, -1.10, -0.85, -0.72, -0.86, -0.77, ..., -0.63, -1.44, -0.69, -0.60, -1.14, -1.21, -1.10, -1.01, -0.94, -1.34],\n",
              "       [-1.68, -0.56, -1.65, -1.27, -0.68, -0.84, -0.91, -1.11, -0.12, 0.34, ..., -1.52, -0.59, -1.50, -1.12, -0.06, -0.75, -1.00, -1.35, 0.37, -0.53],\n",
              "       ...,\n",
              "       [0.54, -0.87, 0.57, 0.39, -0.05, 0.67, 0.42, 0.60, -0.07, -0.39, ..., 0.53, -0.59, 0.53, 0.35, 0.53, 1.34, 1.15, 1.33, 0.23, 0.45],\n",
              "       [0.02, 1.09, 0.04, -0.12, -0.07, 0.55, 0.31, 0.45, 1.62, 0.24, ..., 0.14, 1.55, 0.25, -0.11, 1.06, 1.06, 0.54, 1.00, 3.00, 1.10],\n",
              "       [-0.28, 0.36, -0.24, -0.33, -0.63, 0.12, 0.27, -0.33, -0.89, -0.33, ..., -0.30, -0.01, -0.18, -0.33, 0.17, 0.72, 0.92, 0.08, -0.51, -0.09],\n",
              "       [1.29, -0.49, 1.22, 1.19, 0.71, 0.15, 0.74, 1.03, 0.62, -0.07, ..., 1.26, -0.10, 1.17, 1.20, 0.82, -0.12, 0.30, 0.85, 0.03, 0.07],\n",
              "       [-0.30, -0.83, -0.26, -0.38, 0.86, 0.48, -0.53, -0.44, 0.62, 0.76, ..., -0.36, -0.83, -0.33, -0.43, -0.00, 0.20, -0.40, -0.62, 0.50, -0.09],\n",
              "       [-1.48, -1.08, -1.36, -1.15, 0.16, 0.98, -0.02, -0.50, 0.38, 3.77, ..., -1.36, -1.63, -1.34, -1.04, -0.45, -0.03, -0.63, -1.01, -1.01, 1.43],\n",
              "       [-0.70, -0.21, -0.69, -0.68, 1.34, -0.02, -0.21, -0.34, 0.00, 0.36, ..., -0.64, 0.62, -0.65, -0.62, 1.62, 0.12, 0.10, 0.14, -0.12, 0.43],\n",
              "       [0.05, -0.56, -0.07, -0.06, -2.24, -1.47, -1.02, -1.10, -1.09, -1.23, ..., -0.27, -0.81, -0.38, -0.33, -1.96, -1.32, -1.15, -1.23, -0.68, -1.26],\n",
              "       [-0.04, 0.10, -0.03, -0.16, 0.75, 0.21, 0.32, 0.45, -0.49, 0.39, ..., 0.17, 0.88, 0.21, -0.01, 1.30, 0.73, 0.70, 1.09, 0.49, 1.26],\n",
              "       [-0.55, 0.31, -0.60, -0.55, -1.11, -1.21, -0.81, -0.79, -0.23, -0.81, ..., -0.60, 1.22, -0.68, -0.58, -0.81, -1.07, -0.77, -0.60, -0.30, -0.83]])"
            ]
          },
          "metadata": {},
          "execution_count": 8
        }
      ]
    },
    {
      "cell_type": "code",
      "source": [
        "from sklearn.linear_model import LogisticRegression\n",
        "\n",
        "log_reg = LogisticRegression()\n",
        "log_reg.fit(X_train, y_train)"
      ],
      "metadata": {
        "colab": {
          "base_uri": "https://localhost:8080/"
        },
        "id": "9usRY7yI1qlP",
        "outputId": "5a33d3e8-6ef5-446a-f60b-6a9201605e31"
      },
      "execution_count": 9,
      "outputs": [
        {
          "output_type": "execute_result",
          "data": {
            "text/plain": [
              "LogisticRegression()"
            ]
          },
          "metadata": {},
          "execution_count": 9
        }
      ]
    },
    {
      "cell_type": "code",
      "source": [
        "y_pred = log_reg.predict(X_test)\n",
        "y_pred[:30]"
      ],
      "metadata": {
        "colab": {
          "base_uri": "https://localhost:8080/"
        },
        "id": "8JxKsi_L14GQ",
        "outputId": "b01c4d69-999a-4905-f8af-19478631a3a1"
      },
      "execution_count": 10,
      "outputs": [
        {
          "output_type": "execute_result",
          "data": {
            "text/plain": [
              "array([1, 0, 0, 1, 1, 0, 0, 0, 1, 1, 1, 0, 1, 0, 1, 0, 1, 1, 1, 0, 1, 1, 0, 1, 1, 1, 1, 1, 1, 0])"
            ]
          },
          "metadata": {},
          "execution_count": 10
        }
      ]
    },
    {
      "cell_type": "code",
      "source": [
        "y_prob = log_reg.predict_proba(X_test)\n",
        "y_prob[:30]"
      ],
      "metadata": {
        "colab": {
          "base_uri": "https://localhost:8080/"
        },
        "id": "wcx-3EZX2D-r",
        "outputId": "6b2106cf-e564-4288-beba-66d7430ce2df"
      },
      "execution_count": 11,
      "outputs": [
        {
          "output_type": "execute_result",
          "data": {
            "text/plain": [
              "array([[0.12, 0.88],\n",
              "       [1.00, 0.00],\n",
              "       [1.00, 0.00],\n",
              "       [0.00, 1.00],\n",
              "       [0.00, 1.00],\n",
              "       [1.00, 0.00],\n",
              "       [1.00, 0.00],\n",
              "       [0.96, 0.04],\n",
              "       [0.42, 0.58],\n",
              "       [0.00, 1.00],\n",
              "       [0.05, 0.95],\n",
              "       [0.99, 0.01],\n",
              "       [0.01, 0.99],\n",
              "       [0.85, 0.15],\n",
              "       [0.00, 1.00],\n",
              "       [1.00, 0.00],\n",
              "       [0.00, 1.00],\n",
              "       [0.00, 1.00],\n",
              "       [0.00, 1.00],\n",
              "       [1.00, 0.00],\n",
              "       [0.08, 0.92],\n",
              "       [0.01, 0.99],\n",
              "       [1.00, 0.00],\n",
              "       [0.00, 1.00],\n",
              "       [0.00, 1.00],\n",
              "       [0.00, 1.00],\n",
              "       [0.00, 1.00],\n",
              "       [0.01, 0.99],\n",
              "       [0.00, 1.00],\n",
              "       [1.00, 0.00]])"
            ]
          },
          "metadata": {},
          "execution_count": 11
        }
      ]
    },
    {
      "cell_type": "markdown",
      "source": [
        "#Ocena modelu"
      ],
      "metadata": {
        "id": "D0bhCQl02Ogz"
      }
    },
    {
      "cell_type": "code",
      "source": [
        "from sklearn.metrics import confusion_matrix\n",
        "from sklearn.metrics import accuracy_score\n",
        "from mlxtend.plotting import plot_confusion_matrix\n",
        "\n",
        "cm = confusion_matrix(y_test, y_pred)\n",
        "plot_confusion_matrix(cm)\n",
        "print(f'Accuracy score: {accuracy_score(y_test, y_pred)}')"
      ],
      "metadata": {
        "colab": {
          "base_uri": "https://localhost:8080/",
          "height": 309
        },
        "id": "9eT0ndkF2PwB",
        "outputId": "8748028a-84d0-45dc-e5ce-e279f1e7ac6a"
      },
      "execution_count": 12,
      "outputs": [
        {
          "output_type": "stream",
          "name": "stdout",
          "text": [
            "Accuracy score: 0.9790209790209791\n"
          ]
        },
        {
          "output_type": "display_data",
          "data": {
            "image/png": "[encoded data removed]",
            "text/plain": [
              "<Figure size 432x288 with 1 Axes>"
            ]
          },
          "metadata": {
            "needs_background": "light"
          }
        }
      ]
    },
    {
      "cell_type": "code",
      "source": [
        "from sklearn.metrics import classification_report\n",
        "\n",
        "print(classification_report(y_test, y_pred))"
      ],
      "metadata": {
        "colab": {
          "base_uri": "https://localhost:8080/"
        },
        "id": "8h4J51zy2q34",
        "outputId": "89e085f0-45be-4bb8-f06f-764632882a47"
      },
      "execution_count": 13,
      "outputs": [
        {
          "output_type": "stream",
          "name": "stdout",
          "text": [
            "              precision    recall  f1-score   support\n",
            "\n",
            "           0       0.96      0.98      0.97        54\n",
            "           1       0.99      0.98      0.98        89\n",
            "\n",
            "    accuracy                           0.98       143\n",
            "   macro avg       0.98      0.98      0.98       143\n",
            "weighted avg       0.98      0.98      0.98       143\n",
            "\n"
          ]
        }
      ]
    }
  ]
}